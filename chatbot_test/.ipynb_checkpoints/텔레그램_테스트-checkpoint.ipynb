{
 "cells": [
  {
   "cell_type": "code",
   "execution_count": 9,
   "metadata": {},
   "outputs": [],
   "source": [
    "import json\n",
    "import requests\n",
    "import os"
   ]
  },
  {
   "cell_type": "code",
   "execution_count": 10,
   "metadata": {},
   "outputs": [
    {
     "name": "stdout",
     "output_type": "stream",
     "text": [
      "{'ok': True, 'result': [{'update_id': 825722492, 'message': {'message_id': 3, 'from': {'id': 1082425774, 'is_bot': False, 'first_name': 'Ui', 'language_code': 'ko'}, 'chat': {'id': 1082425774, 'first_name': 'Ui', 'type': 'private'}, 'date': 1593440957, 'text': '시작해'}}]}\n"
     ]
    }
   ],
   "source": [
    "# 환경 변수 PATH에 등록된 TELEGRAM_TOKEN을 가져온다.\n",
    "with open('./hidden_source/token.json','r') as json_file :\n",
    "    tokens = json.load(json_file)\n",
    "    \n",
    "token = tokens.get('telegram').get('token')\n",
    "\n",
    "# 아래의 주소를 호출하면, 업데이트 된 봇의 내용을 가져올 수 있다.\n",
    "url = 'https://api.telegram.org/bot{}/getUpdates'.format(token)\n",
    "response = json.loads(requests.get(url).text) # json으로 받기\n",
    "print(response)"
   ]
  },
  {
   "cell_type": "code",
   "execution_count": null,
   "metadata": {},
   "outputs": [],
   "source": []
  }
 ],
 "metadata": {
  "kernelspec": {
   "display_name": "Python 3",
   "language": "python",
   "name": "python3"
  },
  "language_info": {
   "codemirror_mode": {
    "name": "ipython",
    "version": 3
   },
   "file_extension": ".py",
   "mimetype": "text/x-python",
   "name": "python",
   "nbconvert_exporter": "python",
   "pygments_lexer": "ipython3",
   "version": "3.7.6"
  }
 },
 "nbformat": 4,
 "nbformat_minor": 4
}
